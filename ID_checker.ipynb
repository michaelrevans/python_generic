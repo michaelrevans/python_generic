{
 "cells": [
  {
   "cell_type": "code",
   "execution_count": 8,
   "metadata": {
    "collapsed": true
   },
   "outputs": [],
   "source": [
    "import json\n",
    "import os"
   ]
  },
  {
   "cell_type": "code",
   "execution_count": 30,
   "metadata": {
    "collapsed": false
   },
   "outputs": [
    {
     "name": "stdout",
     "output_type": "stream",
     "text": [
      "141991 ch-day1.json\n",
      "141991 ch-day10.json\n",
      "141991 ch-day14.json\n",
      "141991 ch-day21.json\n",
      "141991 ch-day28.json\n",
      "141991 ch-day3.json\n",
      "141991 ch-day5.json\n",
      "141991 ch-day7.json\n"
     ]
    }
   ],
   "source": [
    "files = [f for f in os.listdir(os.getcwd()) if not \".ipynb\" in f]\n",
    "for filename in files:\n",
    "    file1 = open('ch-day1.json')\n",
    "    fh = file1.read()\n",
    "    load_json = json.loads(fh)\n",
    "    print load_json[\"experian\"][\"interface_id\"] , filename\n",
    "    "
   ]
  },
  {
   "cell_type": "code",
   "execution_count": 28,
   "metadata": {
    "collapsed": false
   },
   "outputs": [
    {
     "name": "stdout",
     "output_type": "stream",
     "text": [
      "141991\n"
     ]
    }
   ],
   "source": [
    "file1 = open('ch-day1.json')\n",
    "fh = file1.read()\n",
    "load_json = json.loads(fh)\n",
    "print load_json[\"experian\"][\"interface_id\"]\n"
   ]
  }
 ],
 "metadata": {
  "kernelspec": {
   "display_name": "Python 2",
   "language": "python",
   "name": "python2"
  },
  "language_info": {
   "codemirror_mode": {
    "name": "ipython",
    "version": 2
   },
   "file_extension": ".py",
   "mimetype": "text/x-python",
   "name": "python",
   "nbconvert_exporter": "python",
   "pygments_lexer": "ipython2",
   "version": "2.7.10"
  }
 },
 "nbformat": 4,
 "nbformat_minor": 0
}
